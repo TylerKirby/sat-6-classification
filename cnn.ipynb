{
 "cells": [
  {
   "cell_type": "markdown",
   "metadata": {},
   "source": [
    "CNN Classifier for SAT-6\n",
    "===\n",
    "Todo\n",
    "---\n",
    "- [ ] Log learning rate, loss, and accuracy to `TensorBoardX` along with standard classification stats (recall, precision, f1, confusion matrix etc.)\n",
    "- [ ] Implement stochastic gradient descent with warm restarts\n",
    "- [ ] Implement test time augmentation\n",
    "- [ ] Implement early stopping ans save best weights\n",
    "- [ ] Achieve overall accuracy of 98.5%"
   ]
  },
  {
   "cell_type": "code",
   "execution_count": null,
   "metadata": {},
   "outputs": [],
   "source": [
    "import os\n",
    "import pandas as pd\n",
    "import numpy as np\n",
    "import torch as t\n",
    "from torch.utils.data import Dataset, DataLoader\n",
    "import torchvision as tv\n",
    "import scipy.io"
   ]
  },
  {
   "cell_type": "code",
   "execution_count": 2,
   "metadata": {},
   "outputs": [],
   "source": [
    "data_dir = '/Users/tttk1/Desktop/deepsat-sat6/'"
   ]
  },
  {
   "cell_type": "code",
   "execution_count": 3,
   "metadata": {},
   "outputs": [
    {
     "data": {
      "text/plain": [
       "['y_test_sat6.csv',\n",
       " 'sat-6-full.mat',\n",
       " 'X_train_sat6.csv',\n",
       " 'sat6annotations.csv',\n",
       " 'y_train_sat6.csv',\n",
       " 'X_test_sat6.csv']"
      ]
     },
     "execution_count": 3,
     "metadata": {},
     "output_type": "execute_result"
    }
   ],
   "source": [
    "os.listdir(data_dir)"
   ]
  },
  {
   "cell_type": "code",
   "execution_count": 4,
   "metadata": {},
   "outputs": [],
   "source": [
    "class SatelliteDataset(Dataset):\n",
    "    def __init__(self, X_csv, y_csv, sample_size=1000):\n",
    "        self.instances = pd.read_csv(X_csv, nrows=sample_size)\n",
    "        self.labels = pd.read_csv(y_csv, nrows=sample_size)\n",
    "\n",
    "    def __len__(self): return len(self.labels)\n",
    "\n",
    "    def __getitem__(self, idx):\n",
    "        img = self.instances.iloc[idx].values.reshape(-1, 4, 28, 28).clip(0, 255).astype(np.uint8).squeeze(axis=0)\n",
    "        label = self._get_labels(self.labels.iloc[idx].values)\n",
    "        return {'chip': img, 'label': label}\n",
    "\n",
    "    def _get_labels(self, row_values):\n",
    "        annotations = {'building': 0, 'barren_land': 1,'trees': 2, 'grassland': 3, 'road': 4, 'water': 5}\n",
    "        labels = [list(annotations.values())[i] for i, x in enumerate(row_values) if x == 1]\n",
    "        return labels[0]"
   ]
  },
  {
   "cell_type": "code",
   "execution_count": 5,
   "metadata": {},
   "outputs": [],
   "source": [
    "training_set = SatelliteDataset(X_csv=data_dir+'X_train_sat6.csv', y_csv=data_dir+'y_train_sat6.csv')\n",
    "validation_set = SatelliteDataset(X_csv=data_dir+'X_test_sat6.csv', y_csv=data_dir+'y_test_sat6.csv')"
   ]
  },
  {
   "cell_type": "code",
   "execution_count": 6,
   "metadata": {},
   "outputs": [],
   "source": [
    "tfms = tv.transforms.Compose([\n",
    "    tv.transforms.RandomHorizontalFlip(),\n",
    "    tv.transforms.RandomVerticalFlip(),\n",
    "    tv.transforms.RandomRotation(90),\n",
    "    tv.transforms.ToTensor()\n",
    "])"
   ]
  },
  {
   "cell_type": "code",
   "execution_count": 7,
   "metadata": {},
   "outputs": [],
   "source": [
    "train_loader = DataLoader(\n",
    "    training_set,\n",
    "    batch_size=64,\n",
    "    shuffle=True,\n",
    "    num_workers=4\n",
    ")\n",
    "\n",
    "val_loader = DataLoader(\n",
    "    validation_set,\n",
    "    batch_size=64,\n",
    "    shuffle=True,\n",
    "    num_workers=4\n",
    ")"
   ]
  },
  {
   "cell_type": "code",
   "execution_count": 8,
   "metadata": {},
   "outputs": [],
   "source": [
    "class SmallCNN(t.nn.Module):\n",
    "    def __init__(self):\n",
    "        super(SmallCNN, self).__init__()\n",
    "        self.conv1 = t.nn.Sequential(\n",
    "            t.nn.Conv2d(\n",
    "                in_channels=4,\n",
    "                out_channels=32,\n",
    "                kernel_size=3\n",
    "            ),\n",
    "            t.nn.BatchNorm2d(32),\n",
    "            t.nn.ReLU(),\n",
    "            t.nn.Conv2d(\n",
    "                in_channels=32,\n",
    "                out_channels=32,\n",
    "                kernel_size=3\n",
    "            ),\n",
    "            t.nn.BatchNorm2d(32),\n",
    "            t.nn.ReLU(),\n",
    "        )\n",
    "        self.conv2 = t.nn.Sequential(\n",
    "            t.nn.Conv2d(\n",
    "                in_channels=32,\n",
    "                out_channels=64,\n",
    "                kernel_size=3\n",
    "            ),\n",
    "            t.nn.BatchNorm2d(64),\n",
    "            t.nn.ReLU(),\n",
    "            t.nn.Conv2d(\n",
    "                in_channels=64,\n",
    "                out_channels=64,\n",
    "                kernel_size=3\n",
    "            ),\n",
    "            t.nn.BatchNorm2d(64),\n",
    "            t.nn.ReLU(),\n",
    "        )\n",
    "        self.pool = t.nn.MaxPool2d(2)\n",
    "        self.fc1 = t.nn.Linear(1024, 512)\n",
    "        self.bn = t.nn.BatchNorm1d(512)\n",
    "        self.drop_out = t.nn.Dropout2d(0.2)\n",
    "        self.fc2 = t.nn.Linear(512, 6)\n",
    "\n",
    "    def forward(self, x):\n",
    "        x = self.conv1(x)\n",
    "        x = self.pool(x)\n",
    "        x = self.conv2(x)\n",
    "        x = self.pool(x)\n",
    "        x = x.view(x.size(0), -1)  # flatten\n",
    "        x = self.fc1(x)\n",
    "        x = self.bn(x)\n",
    "        x = t.nn.functional.relu(x)\n",
    "        x = self.drop_out(x)\n",
    "        output = self.fc2(x)\n",
    "        return output"
   ]
  },
  {
   "cell_type": "code",
   "execution_count": 9,
   "metadata": {},
   "outputs": [],
   "source": [
    "model = SmallCNN()\n",
    "optim = t.optim.SGD(lr=0.001, momentum=0.9, params=model.parameters())\n",
    "crit = t.nn.CrossEntropyLoss()"
   ]
  },
  {
   "cell_type": "code",
   "execution_count": 10,
   "metadata": {},
   "outputs": [
    {
     "name": "stdout",
     "output_type": "stream",
     "text": [
      "Epoch 1 Step 1 Loss 1.8429967164993286\n",
      "Epoch 1 Step 2 Loss 1.9091185331344604\n",
      "Epoch 1 Step 3 Loss 1.8341984748840332\n",
      "Epoch 1 Step 4 Loss 1.7506349086761475\n",
      "Epoch 1 Step 5 Loss 1.6989041566848755\n",
      "Epoch 1 Step 6 Loss 1.6970797777175903\n",
      "Epoch 1 Step 7 Loss 1.6056914329528809\n",
      "Epoch 1 Step 8 Loss 1.5161044597625732\n",
      "Epoch 1 Step 9 Loss 1.4498621225357056\n",
      "Epoch 1 Step 10 Loss 1.371385931968689\n",
      "Epoch 1 Step 11 Loss 1.3060106039047241\n",
      "Epoch 1 Step 12 Loss 1.1970301866531372\n",
      "Epoch 1 Step 13 Loss 1.2007756233215332\n",
      "Epoch 1 Step 14 Loss 1.1175326108932495\n",
      "Epoch 1 Step 15 Loss 1.031986117362976\n",
      "Epoch 1 Step 16 Loss 1.0480080842971802\n",
      "Epoch 2 Step 1 Loss 0.933856725692749\n",
      "Epoch 2 Step 2 Loss 0.9019320011138916\n",
      "Epoch 2 Step 3 Loss 0.8606889247894287\n",
      "Epoch 2 Step 4 Loss 0.754473090171814\n",
      "Epoch 2 Step 5 Loss 0.6591441631317139\n",
      "Epoch 2 Step 6 Loss 0.8108971118927002\n",
      "Epoch 2 Step 7 Loss 0.5695822238922119\n",
      "Epoch 2 Step 8 Loss 0.7120192646980286\n",
      "Epoch 2 Step 9 Loss 0.6076651811599731\n",
      "Epoch 2 Step 10 Loss 0.5800788998603821\n",
      "Epoch 2 Step 11 Loss 0.6373013854026794\n",
      "Epoch 2 Step 12 Loss 0.4873584806919098\n",
      "Epoch 2 Step 13 Loss 0.5269086360931396\n",
      "Epoch 2 Step 14 Loss 0.7231592535972595\n",
      "Epoch 2 Step 15 Loss 0.5878288745880127\n",
      "Epoch 2 Step 16 Loss 0.5303098559379578\n",
      "Epoch 3 Step 1 Loss 0.6163778901100159\n",
      "Epoch 3 Step 2 Loss 0.37572258710861206\n",
      "Epoch 3 Step 3 Loss 0.4761384129524231\n",
      "Epoch 3 Step 4 Loss 0.3838193416595459\n",
      "Epoch 3 Step 5 Loss 0.4807771146297455\n",
      "Epoch 3 Step 6 Loss 0.4074245095252991\n",
      "Epoch 3 Step 7 Loss 0.5666481852531433\n",
      "Epoch 3 Step 8 Loss 0.3563518822193146\n",
      "Epoch 3 Step 9 Loss 0.4084865152835846\n",
      "Epoch 3 Step 10 Loss 0.3761606812477112\n",
      "Epoch 3 Step 11 Loss 0.37835896015167236\n",
      "Epoch 3 Step 12 Loss 0.36553046107292175\n",
      "Epoch 3 Step 13 Loss 0.4099012017250061\n",
      "Epoch 3 Step 14 Loss 0.2891329526901245\n",
      "Epoch 3 Step 15 Loss 0.39144882559776306\n",
      "Epoch 3 Step 16 Loss 0.4186033606529236\n",
      "Epoch 4 Step 1 Loss 0.2896014153957367\n",
      "Epoch 4 Step 2 Loss 0.23905640840530396\n",
      "Epoch 4 Step 3 Loss 0.3895784318447113\n",
      "Epoch 4 Step 4 Loss 0.23990653455257416\n",
      "Epoch 4 Step 5 Loss 0.23094940185546875\n",
      "Epoch 4 Step 6 Loss 0.34155869483947754\n",
      "Epoch 4 Step 7 Loss 0.3052046000957489\n",
      "Epoch 4 Step 8 Loss 0.2761654853820801\n",
      "Epoch 4 Step 9 Loss 0.2894940972328186\n",
      "Epoch 4 Step 10 Loss 0.25332385301589966\n",
      "Epoch 4 Step 11 Loss 0.25136131048202515\n",
      "Epoch 4 Step 12 Loss 0.3020167648792267\n",
      "Epoch 4 Step 13 Loss 0.32403454184532166\n",
      "Epoch 4 Step 14 Loss 0.30936476588249207\n",
      "Epoch 4 Step 15 Loss 0.23200523853302002\n",
      "Epoch 4 Step 16 Loss 0.350944846868515\n",
      "Epoch 5 Step 1 Loss 0.24710696935653687\n",
      "Epoch 5 Step 2 Loss 0.27414852380752563\n",
      "Epoch 5 Step 3 Loss 0.355549693107605\n",
      "Epoch 5 Step 4 Loss 0.24046659469604492\n",
      "Epoch 5 Step 5 Loss 0.21585962176322937\n",
      "Epoch 5 Step 6 Loss 0.20607946813106537\n",
      "Epoch 5 Step 7 Loss 0.1959257423877716\n",
      "Epoch 5 Step 8 Loss 0.1866554617881775\n",
      "Epoch 5 Step 9 Loss 0.34518468379974365\n",
      "Epoch 5 Step 10 Loss 0.1681838482618332\n",
      "Epoch 5 Step 11 Loss 0.22434133291244507\n",
      "Epoch 5 Step 12 Loss 0.23464807868003845\n",
      "Epoch 5 Step 13 Loss 0.21958386898040771\n",
      "Epoch 5 Step 14 Loss 0.1434093415737152\n",
      "Epoch 5 Step 15 Loss 0.22785872220993042\n",
      "Epoch 5 Step 16 Loss 0.1701248586177826\n"
     ]
    }
   ],
   "source": [
    "EPOCHS = 5\n",
    "for e in range(EPOCHS):\n",
    "    for s, inst in enumerate(train_loader):\n",
    "        chip = inst['chip'].float()\n",
    "        output = model(chip)\n",
    "        loss = crit(output, inst['label'])\n",
    "        optim.zero_grad()\n",
    "        loss.backward()\n",
    "        optim.step()\n",
    "        print(f'Epoch {e+1} Step {s+1} Loss {loss.item()}')"
   ]
  },
  {
   "cell_type": "code",
   "execution_count": 11,
   "metadata": {},
   "outputs": [
    {
     "name": "stdout",
     "output_type": "stream",
     "text": [
      "Accuracy 92.8\n"
     ]
    }
   ],
   "source": [
    "model.eval()\n",
    "with t.no_grad():\n",
    "    total = 0\n",
    "    correct = 0\n",
    "    for s, inst in enumerate(val_loader):\n",
    "        output = model(inst['chip'].float())\n",
    "        _, predicted = t.max(output.data, 1)\n",
    "        total += inst['label'].size(0)\n",
    "        correct += (predicted == inst['label']).sum().item()\n",
    "    print(f'Accuracy {(100 * correct / total)}')"
   ]
  }
 ],
 "metadata": {
  "kernelspec": {
   "display_name": "Python 3",
   "language": "python",
   "name": "python3"
  },
  "language_info": {
   "codemirror_mode": {
    "name": "ipython",
    "version": 3
   },
   "file_extension": ".py",
   "mimetype": "text/x-python",
   "name": "python",
   "nbconvert_exporter": "python",
   "pygments_lexer": "ipython3",
   "version": "3.7.0"
  }
 },
 "nbformat": 4,
 "nbformat_minor": 2
}
