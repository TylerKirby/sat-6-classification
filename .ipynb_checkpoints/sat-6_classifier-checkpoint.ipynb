{
 "cells": [
  {
   "cell_type": "code",
   "execution_count": 5,
   "metadata": {},
   "outputs": [],
   "source": [
    "import os\n",
    "import pandas as pd\n",
    "import numpy as np\n",
    "import torch as t\n",
    "from torch.utils.data import Dataset, DataLoader\n",
    "import torchvision as tv"
   ]
  },
  {
   "cell_type": "code",
   "execution_count": 6,
   "metadata": {},
   "outputs": [],
   "source": [
    "data_dir = '/Users/tyler/Datasets/deepsat-sat6/'"
   ]
  },
  {
   "cell_type": "code",
   "execution_count": 7,
   "metadata": {},
   "outputs": [
    {
     "data": {
      "text/plain": [
       "['y_test_sat6.csv',\n",
       " 'sat-6-full.mat',\n",
       " 'X_train_sat6.csv',\n",
       " 'sat6annotations.csv',\n",
       " 'y_train_sat6.csv',\n",
       " 'X_test_sat6.csv']"
      ]
     },
     "execution_count": 7,
     "metadata": {},
     "output_type": "execute_result"
    }
   ],
   "source": [
    "os.listdir(data_dir)"
   ]
  },
  {
   "cell_type": "code",
   "execution_count": 4,
   "metadata": {},
   "outputs": [
    {
     "ename": "SyntaxError",
     "evalue": "invalid syntax (<ipython-input-4-ac45bb59e263>, line 1)",
     "output_type": "error",
     "traceback": [
      "\u001b[0;36m  File \u001b[0;32m\"<ipython-input-4-ac45bb59e263>\"\u001b[0;36m, line \u001b[0;32m1\u001b[0m\n\u001b[0;31m    class SatelliteDataset(t.)\u001b[0m\n\u001b[0m                             ^\u001b[0m\n\u001b[0;31mSyntaxError\u001b[0m\u001b[0;31m:\u001b[0m invalid syntax\n"
     ]
    }
   ],
   "source": [
    "class SatelliteDataset(Dataset):\n",
    "    def __init__(self, X_csv, y_csv, transform=None):\n",
    "        self.instances = pd.read_csv(X_csv)\n",
    "        self.labels = pd.read_csv(y_csv)\n",
    "        self.transform = transform\n",
    "    \n",
    "    def __len__(self): return len(self.labels)\n",
    "    \n",
    "    def __getitem__(self, idx):\n",
    "        img = self.instances.iloc[idx].reshape(-1, 28, 28, 4).clip(0, 255)\n",
    "        label = self.get_label(self.labels.iloc[idx].values)\n",
    "        \n",
    "    def get_label(row_values):\n",
    "        annotations = ['building', 'barren_land','trees', 'grassland', 'road', 'water']\n",
    "        labels = [annotations[i] for x, i in enumerate(row_values) if x == 1]\n",
    "        return labels[0]\n",
    "    \n",
    "    def plot_img(idx):\n",
    "        label = get_label(self.labels.iloc)\n",
    "        plt.title(f'{idx} {}')"
   ]
  },
  {
   "cell_type": "code",
   "execution_count": null,
   "metadata": {},
   "outputs": [],
   "source": []
  }
 ],
 "metadata": {
  "kernelspec": {
   "display_name": "Python 3",
   "language": "python",
   "name": "python3"
  },
  "language_info": {
   "codemirror_mode": {
    "name": "ipython",
    "version": 3
   },
   "file_extension": ".py",
   "mimetype": "text/x-python",
   "name": "python",
   "nbconvert_exporter": "python",
   "pygments_lexer": "ipython3",
   "version": "3.7.0"
  }
 },
 "nbformat": 4,
 "nbformat_minor": 2
}
